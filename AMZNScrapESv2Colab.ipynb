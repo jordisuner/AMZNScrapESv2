{
  "nbformat": 4,
  "nbformat_minor": 0,
  "metadata": {
    "colab": {
      "name": "AMZNScrapESv2Colab.ipynb",
      "provenance": [],
      "authorship_tag": "ABX9TyPz3QJ7zYgac1IGuhcaY0aX",
      "include_colab_link": true
    },
    "kernelspec": {
      "name": "python3",
      "display_name": "Python 3"
    }
  },
  "cells": [
    {
      "cell_type": "markdown",
      "metadata": {
        "id": "view-in-github",
        "colab_type": "text"
      },
      "source": [
        "<a href=\"https://colab.research.google.com/github/jordisuner/AMZNScrapESv2/blob/master/AMZNScrapESv2Colab.ipynb\" target=\"_parent\"><img src=\"https://colab.research.google.com/assets/colab-badge.svg\" alt=\"Open In Colab\"/></a>"
      ]
    },
    {
      "cell_type": "code",
      "metadata": {
        "id": "Oxe_0nAqjjPW"
      },
      "source": [
        "from lxml import html\n",
        "import csv, os, json\n",
        "import requests\n",
        "# from exceptions import ValueError\n",
        "from time import sleep"
      ],
      "execution_count": 1,
      "outputs": []
    },
    {
      "cell_type": "code",
      "metadata": {
        "id": "x5JXdBFzI-5o"
      },
      "source": [
        "def AmzonParser(url):\n",
        "    headers = {\n",
        "        'User-Agent': 'Mozilla/5.0 (X11; Linux x86_64) AppleWebKit/537.36 (KHTML, like Gecko) Chrome/87.0.4280.66 Safari/537.36'}\n",
        "        # original -> 'User-Agent': 'Mozilla/5.0 (X11; Linux x86_64) AppleWebKit/537.36 (KHTML, like Gecko) Chrome/42.0.2311.90 Safari/537.36'}\n",
        "        # Internet                   Mozilla/5.0 (X11; Linux x86_64) AppleWebKit/537.36 (KHTML, like Gecko) Chrome/87.0.4280.66 Safari/537.36\n",
        "    page = requests.get(url, headers=headers)\n",
        "    while True:\n",
        "        sleep(3)\n",
        "        try:\n",
        "            doc = html.fromstring(page.content)\n",
        "            XPATH_NAME = '//h1[@id=\"title\"]//text()'\n",
        "            XPATH_SALE_PRICE = '//span[contains(@id,\"ourprice\") or contains(@id,\"saleprice\")]/text()'\n",
        "            XPATH_ORIGINAL_PRICE = '//td[contains(text(),\"List Price\") or contains(text(),\"M.R.P\") or contains(text(),\"Price\")]/following-sibling::td/text()'\n",
        "            XPATH_CATEGORY = '//a[@class=\"a-link-normal a-color-tertiary\"]//text()'\n",
        "            XPATH_AVAILABILITY = '//div[@id=\"availability\"]//text()'\n",
        "\n",
        "            RAW_NAME = doc.xpath(XPATH_NAME)\n",
        "            RAW_SALE_PRICE = doc.xpath(XPATH_SALE_PRICE)\n",
        "            RAW_CATEGORY = doc.xpath(XPATH_CATEGORY)\n",
        "            RAW_ORIGINAL_PRICE = doc.xpath(XPATH_ORIGINAL_PRICE)\n",
        "            RAw_AVAILABILITY = doc.xpath(XPATH_AVAILABILITY)\n",
        "\n",
        "            NAME = ' '.join(''.join(RAW_NAME).split()) if RAW_NAME else None\n",
        "            SALE_PRICE = ' '.join(''.join(RAW_SALE_PRICE).split()).strip() if RAW_SALE_PRICE else None\n",
        "            CATEGORY = ' > '.join([i.strip() for i in RAW_CATEGORY]) if RAW_CATEGORY else None\n",
        "            ORIGINAL_PRICE = ''.join(RAW_ORIGINAL_PRICE).strip() if RAW_ORIGINAL_PRICE else None\n",
        "            AVAILABILITY = ''.join(RAw_AVAILABILITY).strip() if RAw_AVAILABILITY else None\n",
        "\n",
        "            if not ORIGINAL_PRICE:\n",
        "                ORIGINAL_PRICE = SALE_PRICE\n",
        "\n",
        "            if page.status_code != 200:\n",
        "                print('error')\n",
        "                # raise ValueError('captha')\n",
        "            data = {\n",
        "                'NAME': NAME,\n",
        "                'SALE_PRICE': SALE_PRICE,\n",
        "                'CATEGORY': CATEGORY,\n",
        "                'ORIGINAL_PRICE': ORIGINAL_PRICE,\n",
        "                'AVAILABILITY': AVAILABILITY,\n",
        "                'URL': url,\n",
        "            }\n",
        "\n",
        "            return data\n",
        "        except Exception as e:\n",
        "            print(e)\n"
      ],
      "execution_count": 5,
      "outputs": []
    },
    {
      "cell_type": "code",
      "metadata": {
        "id": "l2v3-1l3JEjW"
      },
      "source": [
        "def ReadAsin():\n",
        "    # AsinList = csv.DictReader(open(os.path.join(os.path.dirname(__file__),\"Asinfeed.csv\")))\n",
        "    AsinList = ['B01LZSTPBR',\n",
        "                'B00GHMKTGA',\n",
        "                'B01GOW4R10',\n",
        "                'B01FK1UCHE',\n",
        "                'B00GHMKZ5A',\n",
        "                'B00HN2BXUY', ]\n",
        "    extracted_data = []\n",
        "    for i in AsinList:\n",
        "        url = \"http://www.amazon.es/dp/\" + i\n",
        "        print(\"Processing: \" + url)\n",
        "        extracted_data.append(AmzonParser(url))\n",
        "        sleep(2)\n",
        "    f = open('data.json', 'w')\n",
        "    json.dump(extracted_data, f, indent=4)"
      ],
      "execution_count": 6,
      "outputs": []
    },
    {
      "cell_type": "code",
      "metadata": {
        "colab": {
          "base_uri": "https://localhost:8080/"
        },
        "id": "97A5H9XeJI-W",
        "outputId": "a916b306-ef3e-4e0b-cc47-ce769767073d"
      },
      "source": [
        "ReadAsin()"
      ],
      "execution_count": 7,
      "outputs": [
        {
          "output_type": "stream",
          "text": [
            "Processing: http://www.amazon.es/dp/B01LZSTPBR\n",
            "error\n",
            "Processing: http://www.amazon.es/dp/B00GHMKTGA\n",
            "error\n",
            "Processing: http://www.amazon.es/dp/B01GOW4R10\n",
            "error\n",
            "Processing: http://www.amazon.es/dp/B01FK1UCHE\n",
            "error\n",
            "Processing: http://www.amazon.es/dp/B00GHMKZ5A\n",
            "error\n",
            "Processing: http://www.amazon.es/dp/B00HN2BXUY\n",
            "error\n"
          ],
          "name": "stdout"
        }
      ]
    }
  ]
}